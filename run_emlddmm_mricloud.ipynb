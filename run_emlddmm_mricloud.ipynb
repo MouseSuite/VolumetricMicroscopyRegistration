{
 "cells": [
  {
   "cell_type": "markdown",
   "metadata": {},
   "source": [
    "# EMLDDMM Example: MRICloud atlas data\n",
    "\n"
   ]
  },
  {
   "cell_type": "markdown",
   "metadata": {},
   "source": [
    "## Introdution\n",
    "We run registration between a pair of T1 MRI images from mricloud.org.\n",
    "Each includes a grayscale image and a set of labels.  We first run the\n",
    "registration pipeline with a config file. We then run the transformation pipeline.\n"
   ]
  },
  {
   "cell_type": "code",
   "execution_count": null,
   "metadata": {},
   "outputs": [],
   "source": [
    "%matplotlib inline\n",
    "import numpy as np\n",
    "import torch\n",
    "import matplotlib.pyplot as plt\n",
    "import emlddmm\n",
    "import json\n",
    "import nrrd\n",
    "import os\n",
    "from datetime import datetime\n",
    "import nibabel as nib\n",
    "import glob\n",
    "from skimage import measure\n",
    "from mayavi import mlab\n",
    "\n",
    "# for debugging only\n",
    "import imp\n",
    "imp.reload(emlddmm)"
   ]
  },
  {
   "cell_type": "markdown",
   "metadata": {},
   "source": [
    "## Registration pipeline\n",
    "Here we load the atlas and target images, and run multi scale registration.\n",
    "Note the inputs\n",
    "\n",
    "atlas_name,label_name,target_name: vtk filenames for images\n",
    "\n",
    "config_file: json filename for options\n",
    "\n",
    "output_dir: string containing a directory for outputs\n"
   ]
  },
  {
   "cell_type": "raw",
   "metadata": {},
   "source": [
    "# start by converting data to vtk\n",
    "directory = 'C:\\\\Users\\\\BGAdmin\\\\data\\\\Adult27-55'\n",
    "files = glob.glob(os.path.join(directory,'*.img'))\n",
    "for f in files:\n",
    "    if 'Labels' not in f and 'MNI' not in f:\n",
    "        continue\n",
    "        \n",
    "    print(f)\n",
    "\n",
    "    vol = nib.load(f)\n",
    "    \n",
    "    dI = vol.header.get_zooms()[:3]\n",
    "    I = vol.get_fdata()[...,0]\n",
    "    xI = [np.arange(n)*d - (n-1)*d/2.0 for n,d in zip(I.shape,dI)]    \n",
    "    dtype = vol.header.get_data_dtype()\n",
    "    #if 'Labels' in f:\n",
    "    #    dtype = np.dtype('<u2') # 16 bit unsigned even though above says 16 bit signed\n",
    "    \n",
    "    # write it back out\n",
    "    emlddmm.write_vtk_data(os.path.splitext(f)[0] + '.vtk',xI,I[None].astype(dtype),'mricloud_atlas')\n",
    "    \n",
    "    "
   ]
  },
  {
   "cell_type": "code",
   "execution_count": null,
   "metadata": {},
   "outputs": [],
   "source": [
    "target_name = 'C:\\\\Users\\\\BGAdmin\\\\data\\\\MD816\\\\HR_NIHxCSHL_50um_14T_M1_masked.vtk'\n",
    "label_name = 'C:\\\\Users\\BGAdmin\\\\data\\\\Adult27-55\\\\Adt27-55_02_Adt27-55_02_FullLabels.vtk'\n",
    "atlas_name = 'C:\\\\Users\\\\BGAdmin\\\\data\\\\Allen_Atlas_vtk/ara_nissl_50.vtk'\n",
    "config_file = 'config_mricloud.json'\n",
    "\n",
    "time = datetime.now().strftime(\"%Y_%m_%d-%I_%M_%S\")\n",
    "output_dir = 'mricloud_test_outputs_'+time"
   ]
  },
  {
   "cell_type": "code",
   "execution_count": null,
   "metadata": {},
   "outputs": [],
   "source": [
    "with open(config_file) as f:\n",
    "    config = json.load(f)\n",
    "# I'm getting this for initial downsampling for preprocessing\n",
    "downIs = config['downI']\n",
    "downJs = config['downJ']"
   ]
  },
  {
   "cell_type": "code",
   "execution_count": null,
   "metadata": {},
   "outputs": [],
   "source": [
    "plt.rcParams[\"figure.figsize\"] = (10,10)\n",
    "# atlas\n",
    "imp.reload(emlddmm)\n",
    "xI,I,title,names = emlddmm.read_data(atlas_name)\n",
    "I = I.astype(float)\n",
    "# normalize\n",
    "I /= np.mean(np.abs(I))\n",
    "dI = np.array([x[1]-x[0] for x in xI])\n",
    "print(dI)\n",
    "fig = emlddmm.draw(I,xI)\n",
    "fig[0].suptitle('Atlas image')"
   ]
  },
  {
   "cell_type": "code",
   "execution_count": null,
   "metadata": {},
   "outputs": [],
   "source": [
    "# initial downsampling so there isn't so much on the gpu\n",
    "mindownI = np.min(np.array(downIs),0)\n",
    "xI,I = emlddmm.downsample_image_domain(xI,I,mindownI)\n",
    "downIs = [ list((np.array(d)/mindownI).astype(int)) for d in downIs]\n",
    "dI = [x[1]-x[0] for x in xI]\n",
    "print(dI)\n",
    "nI = np.array(I.shape,dtype=int)\n",
    "# update our config variable\n",
    "config['downI'] = downIs"
   ]
  },
  {
   "cell_type": "code",
   "execution_count": null,
   "metadata": {},
   "outputs": [],
   "source": [
    "# target\n",
    "imp.reload(emlddmm)\n",
    "xJ,J,title,names = emlddmm.read_data(target_name)\n",
    "J = J.astype(float)\n",
    "J /= np.mean(np.abs(J))\n",
    "dJ = np.array([x[1]-x[0] for x in xJ])\n",
    "print(dJ)\n",
    "J = J.astype(float)#**0.25\n",
    "fig = emlddmm.draw(J,xJ)\n",
    "fig[0].suptitle('Target image')\n",
    "W0 = np.ones_like(J[0])"
   ]
  },
  {
   "cell_type": "code",
   "execution_count": null,
   "metadata": {},
   "outputs": [],
   "source": [
    "# initial downsampling so there isn't so much on the gpu\n",
    "mindownJ = np.min(np.array(downJs),0)\n",
    "xJ,J = emlddmm.downsample_image_domain(xJ,J,mindownJ)\n",
    "W0 = emlddmm.downsample(W0,mindownJ)\n",
    "downJs = [ list((np.array(d)/mindownJ).astype(int)) for d in downJs]\n",
    "dJ = [x[1]-x[0] for x in xJ]\n",
    "nJ = np.array(J.shape,dtype=int)\n",
    "# update our config variable\n",
    "config['downJ'] = downJs"
   ]
  },
  {
   "cell_type": "code",
   "execution_count": null,
   "metadata": {},
   "outputs": [],
   "source": [
    "imp.reload(emlddmm)\n",
    "# visualize initial affine\n",
    "if 'A' in config:\n",
    "    A = np.array(config['A']).astype(float)\n",
    "else:\n",
    "    A = np.eye(4)\n",
    "# this affine matrix should be 4x4, but it may be 1x4x4\n",
    "if A.ndim > 2:\n",
    "    A = A[0]\n",
    "Ai = np.linalg.inv(A)\n",
    "XJ = np.stack(np.meshgrid(*xJ,indexing='ij'),-1)\n",
    "Xs = (Ai[:3,:3]@XJ[...,None])[...,0] + Ai[:3,-1]\n",
    "out = emlddmm.interp(xI,I,Xs.transpose((3,0,1,2)))\n",
    "fig = emlddmm.draw(out,xJ)\n",
    "fig[0].suptitle('Initial transformed atlas')"
   ]
  },
  {
   "cell_type": "code",
   "execution_count": null,
   "metadata": {},
   "outputs": [],
   "source": [
    "print('shape I: ',I.shape)\n",
    "print('shape J: ', J.shape)"
   ]
  },
  {
   "cell_type": "code",
   "execution_count": null,
   "metadata": {
    "scrolled": false
   },
   "outputs": [],
   "source": [
    "imp.reload(emlddmm)\n",
    "device = 'cuda:0'\n",
    "#device = 'cpu'\n",
    "output = emlddmm.emlddmm_multiscale(I=I,xI=[xI],J=J,xJ=[xJ],W0=W0,device=device,**config)"
   ]
  },
  {
   "cell_type": "code",
   "execution_count": null,
   "metadata": {},
   "outputs": [],
   "source": [
    "imp.reload(emlddmm)\n",
    "emlddmm.write_transform_outputs(output_dir,output[-1])"
   ]
  },
  {
   "cell_type": "code",
   "execution_count": null,
   "metadata": {},
   "outputs": [],
   "source": [
    "# get labels\n",
    "xS,S,title,names = emlddmm.read_data(label_name)"
   ]
  },
  {
   "cell_type": "code",
   "execution_count": null,
   "metadata": {},
   "outputs": [],
   "source": [
    "imp.reload(emlddmm)\n",
    "emlddmm.write_qc_outputs(output_dir,output[-1],xI,I,xJ,J,xS=xS,S=S.astype(float))"
   ]
  },
  {
   "cell_type": "code",
   "execution_count": null,
   "metadata": {},
   "outputs": [],
   "source": [
    "# test it, forward transform is used for computing a transformed target\n",
    "# that is, visualize the target deformed to match the atlas\n",
    "imp.reload(emlddmm)\n",
    "Xin = torch.stack(torch.meshgrid([torch.as_tensor(x) for x in xI]))\n",
    "Xout = emlddmm.compose_sequence(output_dir,Xin)\n",
    "Jt = emlddmm.apply_transform_float(xJ,J,Xout)"
   ]
  },
  {
   "cell_type": "code",
   "execution_count": null,
   "metadata": {},
   "outputs": [],
   "source": [
    "import matplotlib.pyplot as plt\n",
    "emlddmm.draw(Jt,xI)\n",
    "plt.gcf().suptitle('Transformed target')"
   ]
  },
  {
   "cell_type": "code",
   "execution_count": null,
   "metadata": {},
   "outputs": [],
   "source": [
    "# test it, backward transform is used for computing a transformed atlas\n",
    "# that is, visualize the atlas deformed to match the target\n",
    "Xin = torch.stack(torch.meshgrid([torch.as_tensor(x) for x in xJ]))\n",
    "Xout = emlddmm.compose_sequence(output_dir,Xin,direction='b')\n",
    "It = emlddmm.apply_transform_float(xI,I,Xout)\n",
    "St = emlddmm.apply_transform_int(xS,S,Xout)"
   ]
  },
  {
   "cell_type": "code",
   "execution_count": null,
   "metadata": {},
   "outputs": [],
   "source": [
    "St_ = St.float()\n",
    "emlddmm.draw(It,xJ)\n",
    "emlddmm.draw(torch.cat((St_%7,St_%5,St_%3)),xJ)"
   ]
  },
  {
   "cell_type": "code",
   "execution_count": null,
   "metadata": {},
   "outputs": [],
   "source": [
    "atlas_output_dir = os.path.join(output_dir,'to_atlas')\n",
    "if not os.path.isdir(atlas_output_dir): os.mkdir(atlas_output_dir)\n",
    "target_output_dir = os.path.join(output_dir,'to_target')\n",
    "if not os.path.isdir(target_output_dir): os.mkdir(target_output_dir)"
   ]
  },
  {
   "cell_type": "code",
   "execution_count": null,
   "metadata": {},
   "outputs": [],
   "source": [
    "# write out\n",
    "imp.reload(emlddmm)\n",
    "emlddmm.write_data(os.path.join(atlas_output_dir,'target_to_atlas.vtk'),xI,Jt,'target_to_atlas')\n",
    "\n",
    "emlddmm.write_data(os.path.join(target_output_dir,'atlas_to_target.vtk'),xI,It,'atlas_to_target')\n",
    "emlddmm.write_data(os.path.join(target_output_dir,'atlas_seg_to_target.vtk'),xI,St,'atlas_seg_to_target')"
   ]
  },
  {
   "cell_type": "code",
   "execution_count": null,
   "metadata": {},
   "outputs": [],
   "source": [
    "# save config used to output\n",
    "with open(config_file) as f:\n",
    "    config = json.load(f)\n",
    "with open(os.path.join(output_dir, 'config.json'), 'w') as f:\n",
    "    json.dump(config, f)"
   ]
  },
  {
   "cell_type": "code",
   "execution_count": null,
   "metadata": {},
   "outputs": [],
   "source": [
    "# TODO write out data at original resolution"
   ]
  },
  {
   "cell_type": "code",
   "execution_count": null,
   "metadata": {},
   "outputs": [],
   "source": [
    "# with open('test','wt') as f:\n",
    "#     f.write()"
   ]
  },
  {
   "cell_type": "code",
   "execution_count": null,
   "metadata": {},
   "outputs": [],
   "source": []
  },
  {
   "cell_type": "code",
   "execution_count": null,
   "metadata": {},
   "outputs": [],
   "source": []
  }
 ],
 "metadata": {
  "interpreter": {
   "hash": "53a584f8262ceeeafe7af65b66bf0446ad5d9e62941ae7c953bbefa83b16196b"
  },
  "kernelspec": {
   "display_name": "Python 3.8.8 64-bit ('base': conda)",
   "name": "python3"
  },
  "language_info": {
   "codemirror_mode": {
    "name": "ipython",
    "version": 3
   },
   "file_extension": ".py",
   "mimetype": "text/x-python",
   "name": "python",
   "nbconvert_exporter": "python",
   "pygments_lexer": "ipython3",
   "version": "3.8.8"
  }
 },
 "nbformat": 4,
 "nbformat_minor": 4
}
